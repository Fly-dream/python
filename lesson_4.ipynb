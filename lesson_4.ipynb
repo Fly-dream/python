{
 "cells": [
  {
   "cell_type": "code",
   "execution_count": 43,
   "metadata": {},
   "outputs": [],
   "source": [
    "#Задание 1\n",
    "import pandas as pd\n",
    "import numpy as np\n",
    "\n",
    "authors = pd.DataFrame({'author_id': [1, 2, 3], 'author_name': ['Тургенев', 'Чехов', 'Островский']},\n",
    "                      columns = ['author_id', 'author_name'])\n",
    "books = pd.DataFrame({'author_id': [1, 1, 1, 2, 2, 3, 3], \n",
    "                      'book_title': ['Отцы и дети', 'Рудин', 'Дворянское гнездо', 'Толстый и тонкий', 'Дама с собачкой', 'Гроза', 'Таланты и поклонники'],\n",
    "                     'price': [450, 300, 350, 500, 450, 370, 290]},\n",
    "                    columns = ['author_id', 'book_title', 'price'])"
   ]
  },
  {
   "cell_type": "code",
   "execution_count": 44,
   "metadata": {},
   "outputs": [],
   "source": [
    "#Задание 2\n",
    "\n",
    "authors_price = pd.merge(authors, books, on = 'author_id', how = 'inner')\n"
   ]
  },
  {
   "cell_type": "code",
   "execution_count": 45,
   "metadata": {},
   "outputs": [],
   "source": [
    "#Задание 3\n",
    "top5 = books.sort_values(by = 'price', ascending=False).head(5)\n"
   ]
  },
  {
   "cell_type": "code",
   "execution_count": 46,
   "metadata": {},
   "outputs": [],
   "source": [
    "#Задание 4\n",
    "min_max = pd.merge(authors_price.groupby(['author_name'], sort=False)['price'].min().to_frame(),\n",
    "                        authors_price.groupby(['author_name'], sort=False)['price'].max().to_frame(),\n",
    "                       on = 'author_name', how = 'inner')   \n",
    "authors_stat = pd.merge(min_max,\n",
    "                        authors_price.groupby(['author_name'], sort=False)['price'].mean().to_frame(),\n",
    "                       on = 'author_name', how = 'inner')   \n",
    "authors_stat.columns = ['min_price', 'max_price', 'mean_price']\n"
   ]
  },
  {
   "cell_type": "code",
   "execution_count": 48,
   "metadata": {},
   "outputs": [
    {
     "name": "stdout",
     "output_type": "stream",
     "text": [
      "Hoooray! It works!\n"
     ]
    }
   ],
   "source": [
    "#Задание 5\n",
    "authors_price['cover'] = pd.Series(['твердая', 'мягкая', 'мягкая', 'твердая', 'твердая', 'мягкая', 'мягкая'])\n",
    "book_info = authors_price.pivot_table(values = 'price', index = ['author_name'], columns = ['cover'], aggfunc=np.sum, fill_value=0)\n",
    "book_info.to_pickle('book_info.pkl')\n",
    "book_info3 = pd.read_pickle('book_info.pkl')\n",
    "if book_info.equals(book_info3) == True:\n",
    "    print('Hoooray! It works!')"
   ]
  },
  {
   "cell_type": "code",
   "execution_count": null,
   "metadata": {},
   "outputs": [],
   "source": []
  }
 ],
 "metadata": {
  "kernelspec": {
   "display_name": "Python 3",
   "language": "python",
   "name": "python3"
  },
  "language_info": {
   "codemirror_mode": {
    "name": "ipython",
    "version": 3
   },
   "file_extension": ".py",
   "mimetype": "text/x-python",
   "name": "python",
   "nbconvert_exporter": "python",
   "pygments_lexer": "ipython3",
   "version": "3.7.1"
  }
 },
 "nbformat": 4,
 "nbformat_minor": 2
}
