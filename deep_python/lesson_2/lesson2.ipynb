{
 "cells": [
  {
   "cell_type": "code",
   "execution_count": 22,
   "metadata": {},
   "outputs": [
    {
     "name": "stdout",
     "output_type": "stream",
     "text": [
      "<codecs.StreamReaderWriter object at 0x102aa4198>\n"
     ]
    }
   ],
   "source": [
    "import codecs\n",
    "info_1 = codecs.open('data/info_1.txt', 'r', 'cp1251')\n",
    "info_2 = codecs.open('data/info_2.txt', 'r', 'cp1251')\n",
    "info_3 = codecs.open('data/info_3.txt', 'r', 'cp1251')\n",
    "\n",
    "print(info_1)"
   ]
  },
  {
   "cell_type": "code",
   "execution_count": null,
   "metadata": {},
   "outputs": [],
   "source": [
    "def get_data()\n",
    "    for i in "
   ]
  },
  {
   "cell_type": "code",
   "execution_count": 31,
   "metadata": {},
   "outputs": [],
   "source": [
    "import os\n",
    "filelist = []\n",
    "def get_filelist():\n",
    "    for file in os.listdir(\"data/\"):\n",
    "        if file.endswith(\".txt\"):\n",
    "            filelist.append(file)\n",
    "    return(filelist)\n"
   ]
  },
  {
   "cell_type": "code",
   "execution_count": 21,
   "metadata": {},
   "outputs": [
    {
     "name": "stdout",
     "output_type": "stream",
     "text": [
      "['info_3.txt', 'info_2.txt', 'info_1.txt']\n"
     ]
    }
   ],
   "source": [
    "print(filelist)"
   ]
  },
  {
   "cell_type": "code",
   "execution_count": 125,
   "metadata": {},
   "outputs": [],
   "source": [
    "import codecs\n",
    "import re\n",
    "\n",
    "os_prod_list = []\n",
    "os_name_list = []\n",
    "os_code_list = []\n",
    "os_type_list = []\n",
    "main_data = ['Изготовитель системы', 'Название ОС', 'Код продукта', 'Тип системы']\n",
    "\n",
    "\n",
    "prod = re.compile('^(Изготовитель ОС)')\n",
    "f = 0\n",
    "#def get_data():\n",
    "filelist = get_filelist()\n",
    "for i in filelist:\n",
    "    path = 'data/' + i\n",
    "    with open(path, encoding='cp1251') as string:\n",
    "        for line in string:\n",
    "            prod = re.findall('^Изготовитель ОС.*', line)\n",
    "            if prod:\n",
    "                os_prod = re.findall('[a-zA-Z].*', str(prod))\n",
    "                os_prod_list.append(os_prod)\n",
    "            name = re.findall('^Название ОС.*', line)\n",
    "            if name:\n",
    "                os_name = re.findall('[a-zA-Z0-9].*', str(name))\n",
    "                os_name_list.append(os_name)\n",
    "            code = re.findall('^Код продукта.*', line)\n",
    "            if code:\n",
    "                os_code = re.findall('[a-zA-Z0-9].*', str(code))\n",
    "                os_code_list.append(os_code)\n",
    "            os_type = re.findall('^Тип системы.*', line)\n",
    "            if os_type:\n",
    "                os_code = re.findall('[a-zA-Z0-9].*', str(os_type))\n",
    "                os_type_list.append(os_code)"
   ]
  },
  {
   "cell_type": "code",
   "execution_count": 126,
   "metadata": {},
   "outputs": [],
   "source": [
    "import csv\n",
    "\n",
    "def write_to_csv(file_name):\n",
    "    get_data()\n",
    "    with open(file_name, 'w', newline='') as csvfile:\n",
    "        spamwriter = csv.writer(csvfile, delimiter=',', quoting=csv.QUOTE_MINIMAL)\n",
    "        spamwriter.writerow(main_data)\n",
    "        for i in zip(os_prod_list, os_name_list, os_code_list, os_type_list): \n",
    "            spamwriter.writerow(i[0] + i[1] + i[2] + i[3])\n",
    "        "
   ]
  },
  {
   "cell_type": "code",
   "execution_count": 142,
   "metadata": {},
   "outputs": [],
   "source": []
  },
  {
   "cell_type": "code",
   "execution_count": null,
   "metadata": {},
   "outputs": [],
   "source": []
  }
 ],
 "metadata": {
  "kernelspec": {
   "display_name": "Python 3",
   "language": "python",
   "name": "python3"
  },
  "language_info": {
   "codemirror_mode": {
    "name": "ipython",
    "version": 3
   },
   "file_extension": ".py",
   "mimetype": "text/x-python",
   "name": "python",
   "nbconvert_exporter": "python",
   "pygments_lexer": "ipython3",
   "version": "3.7.1"
  }
 },
 "nbformat": 4,
 "nbformat_minor": 2
}
